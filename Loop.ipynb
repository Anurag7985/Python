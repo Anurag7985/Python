{
  "nbformat": 4,
  "nbformat_minor": 0,
  "metadata": {
    "colab": {
      "name": "Loop.ipynb",
      "provenance": [],
      "collapsed_sections": []
    },
    "kernelspec": {
      "name": "python3",
      "display_name": "Python 3"
    },
    "language_info": {
      "name": "python"
    }
  },
  "cells": [
    {
      "cell_type": "markdown",
      "metadata": {
        "id": "bfPXSOn7vZ_r"
      },
      "source": [
        "# **Looping**--"
      ]
    },
    {
      "cell_type": "markdown",
      "metadata": {
        "id": "R_EhZA-Fvhxf"
      },
      "source": [
        "A for loop is used for iterating over a sequence (that is either a list, a tuple, a dictionary, a set, or a string).\n",
        "\n",
        "This is less like the for keyword in other programming languages, and works more like an iterator method as found in other object-orientated programming languages.\n",
        "\n",
        "With the for loop we can execute a set of statements, once for each item in a list, tuple, set etc.\n",
        "\n",
        "1.   For Loop\n",
        "     \n",
        "2.   While Loop\n",
        "\n",
        "\n"
      ]
    },
    {
      "cell_type": "markdown",
      "metadata": {
        "id": "GnksDbAjwsgQ"
      },
      "source": [
        "# **For Loop-**\n",
        "\n",
        "The for loop in Python is used to iterate over a sequence (list, tuple, string) or other iterable objects. Iterating over a sequence is called traversal.\n",
        "\n",
        "**Syntax of for Loop-**\n",
        "\n",
        "for val in sequence:\n",
        "\t\n",
        "  Body of for"
      ]
    },
    {
      "cell_type": "code",
      "metadata": {
        "colab": {
          "base_uri": "https://localhost:8080/"
        },
        "id": "VMxDlaK3xEPt",
        "outputId": "7cb4650d-729e-4cad-f032-93524a2964e7"
      },
      "source": [
        "# Use of for loop\n",
        "fruits=[\"apple\",\"banana\",\"mango\"]\n",
        "for i in fruits:\n",
        "  print(i,end=\"\")\n",
        "  print(\"\")\n"
      ],
      "execution_count": null,
      "outputs": [
        {
          "output_type": "stream",
          "text": [
            "apple\n",
            "banana\n",
            "mango\n"
          ],
          "name": "stdout"
        }
      ]
    },
    {
      "cell_type": "markdown",
      "metadata": {
        "id": "PC5UmfFczPuc"
      },
      "source": [
        "# **While Loop-**\n",
        "\n",
        "In python, while loop is used to execute a block of statements repeatedly until a given a condition is satisfied. And when the condition becomes false, the line immediately after the loop in program is executed. \n",
        "\n",
        "**Syntax :**\n",
        "\n",
        "while expression:\n",
        "  \n",
        "   statement(s)"
      ]
    },
    {
      "cell_type": "markdown",
      "metadata": {
        "id": "h8oxPfknvwGH"
      },
      "source": [
        ""
      ]
    },
    {
      "cell_type": "code",
      "metadata": {
        "colab": {
          "base_uri": "https://localhost:8080/"
        },
        "id": "aKbLyUFvzvUv",
        "outputId": "20c779bf-4f95-45e8-a5af-714c56c59d16"
      },
      "source": [
        "# Use of while loop\n",
        "count=0\n",
        "while count<5:\n",
        "  count=count+1\n",
        "  fruits=[\"apple\",\"mango\",\"banana\"]\n",
        "  print(fruits,end=\"\")\n",
        "  print(\"\")"
      ],
      "execution_count": null,
      "outputs": [
        {
          "output_type": "stream",
          "text": [
            "['apple', 'mango', 'banana']\n",
            "['apple', 'mango', 'banana']\n",
            "['apple', 'mango', 'banana']\n",
            "['apple', 'mango', 'banana']\n",
            "['apple', 'mango', 'banana']\n"
          ],
          "name": "stdout"
        }
      ]
    },
    {
      "cell_type": "markdown",
      "metadata": {
        "id": "E36PrqBP2hEo"
      },
      "source": [
        "# **What is Range-**\n",
        "\n",
        "The range() function returns a sequence of numbers, starting from 0 by default, and increments by 1 (by default), and stops before a specified number.\n",
        "\n",
        "Syntax\n",
        "\n",
        "range(start, stop, step)"
      ]
    },
    {
      "cell_type": "markdown",
      "metadata": {
        "id": "v4fy0apG1gEo"
      },
      "source": [
        "# **Nested For Loop-**\n",
        "\n",
        "Loops can be nested in Python, as they can with other programming languages. A nested loop is a loop that occurs within another loop, structurally similar to nested if statements.\n",
        "\n",
        "1.   For nested Loop\n",
        "2.   While Nested Loop\n",
        "\n"
      ]
    },
    {
      "cell_type": "code",
      "metadata": {
        "colab": {
          "base_uri": "https://localhost:8080/"
        },
        "id": "lNhGW4av19du",
        "outputId": "f88092ba-c639-450c-96dc-dca7f2036b60"
      },
      "source": [
        "# Program to print * pattern by nested for loop *\n",
        "                                              # **\n",
        "                                              # ***\n",
        "                                              # ****\n",
        "for i in range(4):\n",
        "  for j in range(i+1):\n",
        "    print(\"*\",end=\"\")\n",
        "  print(\"\")"
      ],
      "execution_count": null,
      "outputs": [
        {
          "output_type": "stream",
          "text": [
            "*\n",
            "**\n",
            "***\n",
            "****\n"
          ],
          "name": "stdout"
        }
      ]
    },
    {
      "cell_type": "code",
      "metadata": {
        "colab": {
          "base_uri": "https://localhost:8080/"
        },
        "id": "h8Cw1Jwg6ckO",
        "outputId": "88377f41-54bc-493e-d27c-6ec8ec0ce490"
      },
      "source": [
        "# Program to print this pattern ****\n",
        "                              # ***\n",
        "                              # **\n",
        "                              # *\n",
        "for i in range(5,0,-1):\n",
        "  for j in range(i):\n",
        "    print(\"*\",end=\"\")\n",
        "  print(\"\")"
      ],
      "execution_count": null,
      "outputs": [
        {
          "output_type": "stream",
          "text": [
            "*****\n",
            "****\n",
            "***\n",
            "**\n",
            "*\n"
          ],
          "name": "stdout"
        }
      ]
    },
    {
      "cell_type": "code",
      "metadata": {
        "colab": {
          "base_uri": "https://localhost:8080/"
        },
        "id": "JGmKxQdM4xtY",
        "outputId": "6e0052d3-df33-4b56-f6c2-6baa9cb3e1a9"
      },
      "source": [
        "# Program to print this pattern 1\n",
        "                              # 22\n",
        "                              # 333\n",
        "                              # 4444\n",
        "for i in range(5):\n",
        "  for j in range(i+1):\n",
        "    print(i+1,end=\"\") \n",
        "  print(\"\")                    "
      ],
      "execution_count": null,
      "outputs": [
        {
          "output_type": "stream",
          "text": [
            "1\n",
            "22\n",
            "333\n",
            "4444\n",
            "55555\n"
          ],
          "name": "stdout"
        }
      ]
    },
    {
      "cell_type": "code",
      "metadata": {
        "colab": {
          "base_uri": "https://localhost:8080/"
        },
        "id": "FpFOvVML8h5E",
        "outputId": "3fa6653a-0658-4c7a-9344-a800aedd45a5"
      },
      "source": [
        "# Program to print this pattern 4444\n",
        "                              # 333\n",
        "                              # 22\n",
        "                              # 1\n",
        "for i in range(4,0,-1):\n",
        "  for j in range(i):\n",
        "    print(i+1,end=\"\") \n",
        "  print(\"\")   "
      ],
      "execution_count": null,
      "outputs": [
        {
          "output_type": "stream",
          "text": [
            "5555\n",
            "444\n",
            "33\n",
            "2\n"
          ],
          "name": "stdout"
        }
      ]
    },
    {
      "cell_type": "code",
      "metadata": {
        "colab": {
          "base_uri": "https://localhost:8080/"
        },
        "id": "TLSi6ao95hyq",
        "outputId": "805831d5-4c4b-4b4c-9ba8-dd43029c9264"
      },
      "source": [
        "# Program to print this pattern 1\n",
        "                              # 12\n",
        "                              # 123\n",
        "                              # 1234\n",
        "for i in range(4):\n",
        "  for j in range(i+1):\n",
        "    print(j+1,end=\"\")\n",
        "  print(\"\")"
      ],
      "execution_count": null,
      "outputs": [
        {
          "output_type": "stream",
          "text": [
            "1\n",
            "12\n",
            "123\n",
            "1234\n"
          ],
          "name": "stdout"
        }
      ]
    },
    {
      "cell_type": "code",
      "metadata": {
        "colab": {
          "base_uri": "https://localhost:8080/"
        },
        "id": "mMZzlJ1e7uRo",
        "outputId": "6aa6161d-0a63-499a-f6e4-24cf6775ad70"
      },
      "source": [
        "# Program to print this pattern 1234\n",
        "                              # 123\n",
        "                              # 12\n",
        "                              # 1\n",
        "for i in range(4,0,-1):\n",
        "  for j in range(i):\n",
        "    print(j+1,end=\"\")\n",
        "  print(\"\")"
      ],
      "execution_count": null,
      "outputs": [
        {
          "output_type": "stream",
          "text": [
            "1234\n",
            "123\n",
            "12\n",
            "1\n"
          ],
          "name": "stdout"
        }
      ]
    },
    {
      "cell_type": "markdown",
      "metadata": {
        "id": "eI9a2AFL9Jpp"
      },
      "source": [
        "# **Nested while loop**-\n",
        "\n",
        "Python programming language allows to use one loop inside another loop. Following section shows few examples to illustrate the concept.\n",
        "\n",
        "while expression:\n",
        " \n",
        "   while expression:\n",
        " \n",
        "   statement(s)"
      ]
    },
    {
      "cell_type": "code",
      "metadata": {
        "id": "6EphbH4G9tM6",
        "colab": {
          "base_uri": "https://localhost:8080/"
        },
        "outputId": "242bc28e-e12a-48fc-b32c-2fc4c7b173f7"
      },
      "source": [
        "i=1\n",
        "while i<=1:\n",
        "  j=1\n",
        "  while j<=i:\n",
        "    print(\"*\")\n",
        "    j=j+1\n",
        "    print(\"\")\n",
        "  i=i+1\n"
      ],
      "execution_count": null,
      "outputs": [
        {
          "output_type": "stream",
          "text": [
            "*\n",
            "\n"
          ],
          "name": "stdout"
        }
      ]
    },
    {
      "cell_type": "code",
      "metadata": {
        "id": "Ci5igz7A6ZIC"
      },
      "source": [
        ""
      ],
      "execution_count": null,
      "outputs": []
    },
    {
      "cell_type": "code",
      "metadata": {
        "colab": {
          "base_uri": "https://localhost:8080/"
        },
        "id": "8kztX1e8u0MD",
        "outputId": "f25efeff-ca94-4da0-a6e1-e0bd99f4e928"
      },
      "source": [
        ""
      ],
      "execution_count": null,
      "outputs": [
        {
          "output_type": "stream",
          "text": [
            "*\n",
            "**\n",
            "***\n",
            "****\n"
          ],
          "name": "stdout"
        }
      ]
    },
    {
      "cell_type": "code",
      "metadata": {
        "id": "r0uSIK1TvYto"
      },
      "source": [
        ""
      ],
      "execution_count": null,
      "outputs": []
    },
    {
      "cell_type": "markdown",
      "metadata": {
        "id": "X-7gel99vY78"
      },
      "source": [
        ""
      ]
    }
  ]
}