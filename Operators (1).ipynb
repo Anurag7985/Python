{
  "nbformat": 4,
  "nbformat_minor": 0,
  "metadata": {
    "colab": {
      "name": "Operators.ipynb",
      "provenance": [],
      "collapsed_sections": [],
      "toc_visible": true
    },
    "kernelspec": {
      "display_name": "Python 3",
      "name": "python3"
    }
  },
  "cells": [
    {
      "cell_type": "markdown",
      "metadata": {
        "id": "CAe2uOj90-cQ"
      },
      "source": [
        "# ***Operators***--\n"
      ]
    },
    {
      "cell_type": "markdown",
      "metadata": {
        "id": "vwROxghX0_UH"
      },
      "source": [
        "Operators are special symbols in Python that carry out arithmetic or logical computation. The value that the operator operates on is called the operand.\n",
        "\n",
        "*   Arithmetic operators\n",
        "\n",
        "*   Comparison operators\n",
        "*   Logical operators\n",
        "\n",
        "*   Bitwise operators\n",
        "\n",
        "*   Assignment operators\n",
        "*   Membership operator\n",
        "\n",
        "\n",
        "\n",
        "\n",
        "\n",
        "---\n",
        "\n",
        "\n",
        "\n"
      ]
    },
    {
      "cell_type": "markdown",
      "metadata": {
        "id": "YJUXRp8Y6jG2"
      },
      "source": [
        "# * Arithmatic operator- "
      ]
    },
    {
      "cell_type": "markdown",
      "metadata": {
        "id": "tG9n8wvC6svH"
      },
      "source": [
        "\n",
        "\n",
        "\n",
        "\n",
        "\n",
        "\n",
        "\n",
        "\n",
        "*   \"***\"\t        Exponent - left operand raised to the power of *right*\n",
        "\n",
        "\n",
        "\n",
        "*   \"+\"          \tAdd two operands or unary plus\n",
        "\n",
        "*   \"-\"          \tSubtract right operand from the left or unary minus\n",
        "\n",
        "*   \"*\"          \tMultiply two operands\n",
        "*   \"/\"          \tDivide left operand by the right one\n",
        "\n",
        "\n",
        "*   \"%\"\t          Modulus - remainder of the division\n",
        "\n",
        "\n",
        "*   \"//\"\t        Floor division - division that results into whole number\n",
        "\n"
      ]
    },
    {
      "cell_type": "code",
      "metadata": {
        "colab": {
          "base_uri": "https://localhost:8080/"
        },
        "id": "IlEzGrTdKuSJ",
        "outputId": "7858e267-bdf1-4b67-9530-535eb6fd5fc2"
      },
      "source": [
        "# Use of exponent  \"**\"\n",
        "a=5\n",
        "b=2\n",
        "c=a**b\n",
        "print (c)"
      ],
      "execution_count": null,
      "outputs": [
        {
          "output_type": "stream",
          "text": [
            "25\n"
          ],
          "name": "stdout"
        }
      ]
    },
    {
      "cell_type": "code",
      "metadata": {
        "colab": {
          "base_uri": "https://localhost:8080/"
        },
        "id": "sIYOi_qa8c12",
        "outputId": "06335799-6534-4715-edc0-2d922251c297"
      },
      "source": [
        "\n",
        "# Use of Addition \"+\"\n",
        "a=5\n",
        "b=3\n",
        "c=a+b\n",
        "print(c)"
      ],
      "execution_count": null,
      "outputs": [
        {
          "output_type": "stream",
          "text": [
            "8\n"
          ],
          "name": "stdout"
        }
      ]
    },
    {
      "cell_type": "code",
      "metadata": {
        "colab": {
          "base_uri": "https://localhost:8080/"
        },
        "id": "1K5RtZZ29xWJ",
        "outputId": "b8338a89-8032-4b5f-9195-cc20183e6c32"
      },
      "source": [
        "# Use of Subtraction \"-\"\n",
        "\n",
        "a=45\n",
        "b=33\n",
        "c=a-b\n",
        "print(c)"
      ],
      "execution_count": null,
      "outputs": [
        {
          "output_type": "stream",
          "text": [
            "12\n"
          ],
          "name": "stdout"
        }
      ]
    },
    {
      "cell_type": "code",
      "metadata": {
        "colab": {
          "base_uri": "https://localhost:8080/"
        },
        "id": "TGEQuscV-KpN",
        "outputId": "dab2630c-ef42-4431-bdb5-beaf4e42092d"
      },
      "source": [
        "# Use of multiply \"*\"\n",
        "a=6\n",
        "b=4\n",
        "c=a*b\n",
        "print(c)"
      ],
      "execution_count": null,
      "outputs": [
        {
          "output_type": "stream",
          "text": [
            "24\n"
          ],
          "name": "stdout"
        }
      ]
    },
    {
      "cell_type": "code",
      "metadata": {
        "colab": {
          "base_uri": "https://localhost:8080/"
        },
        "id": "Qqx3xR6EL5HH",
        "outputId": "bfe76839-8875-4f30-bfe3-1560875548e3"
      },
      "source": [
        "# Use of devide \"/\"\n",
        "a=66\n",
        "b=5\n",
        "c=a/b\n",
        "print(c)"
      ],
      "execution_count": null,
      "outputs": [
        {
          "output_type": "stream",
          "text": [
            "13.2\n"
          ],
          "name": "stdout"
        }
      ]
    },
    {
      "cell_type": "code",
      "metadata": {
        "colab": {
          "base_uri": "https://localhost:8080/"
        },
        "id": "yeGhLyIoMGRY",
        "outputId": "24fa03b8-1d4c-4fe0-e44c-8cc45cd77c92"
      },
      "source": [
        "# Use of Modulas \"%\"\n",
        "a=10\n",
        "b=4\n",
        "c=a%b\n",
        "print(c)"
      ],
      "execution_count": null,
      "outputs": [
        {
          "output_type": "stream",
          "text": [
            "2\n"
          ],
          "name": "stdout"
        }
      ]
    },
    {
      "cell_type": "code",
      "metadata": {
        "colab": {
          "base_uri": "https://localhost:8080/"
        },
        "id": "fX39L7AkMReV",
        "outputId": "a30897f4-8b26-442b-cbb5-0981e02cbb73"
      },
      "source": [
        "# Use of floor devision \"//\"\n",
        "a=10\n",
        "b=4\n",
        "c=a//b # It's return only Integer part\n",
        "print(c)"
      ],
      "execution_count": null,
      "outputs": [
        {
          "output_type": "stream",
          "text": [
            "2\n"
          ],
          "name": "stdout"
        }
      ]
    },
    {
      "cell_type": "markdown",
      "metadata": {
        "id": "Qzt2H-lUMs-d"
      },
      "source": [
        "# ***Comparision Operator--**"
      ]
    },
    {
      "cell_type": "markdown",
      "metadata": {
        "id": "kdzjY9s6NXof"
      },
      "source": [
        "\"==\"\tEqual\t\n",
        "\"!=\"\tNot equal\t\t\n",
        "'>\"  \tGreater than\t\n",
        "\"<\" \tLess than\t\n",
        "\">=\" \tGreater than or equal to\t\t\n",
        "\"<=\" \tLess than or equal to\t"
      ]
    },
    {
      "cell_type": "code",
      "metadata": {
        "colab": {
          "base_uri": "https://localhost:8080/"
        },
        "id": "Qkhvaw-VONQm",
        "outputId": "25f455fd-5b94-406a-f390-9b207abdd1cd"
      },
      "source": [
        "# Use of equal to\n",
        "a=4\n",
        "b=4\n",
        "a==b"
      ],
      "execution_count": null,
      "outputs": [
        {
          "output_type": "execute_result",
          "data": {
            "text/plain": [
              "True"
            ]
          },
          "metadata": {
            "tags": []
          },
          "execution_count": 27
        }
      ]
    },
    {
      "cell_type": "code",
      "metadata": {
        "colab": {
          "base_uri": "https://localhost:8080/"
        },
        "id": "ZGUhB48cOb8J",
        "outputId": "0ad7e3f6-4b49-4611-9d34-8b9f6ce0b9af"
      },
      "source": [
        "# Use of Not equal\n",
        "a=5\n",
        "b=3\n",
        "a!=b"
      ],
      "execution_count": null,
      "outputs": [
        {
          "output_type": "execute_result",
          "data": {
            "text/plain": [
              "True"
            ]
          },
          "metadata": {
            "tags": []
          },
          "execution_count": 28
        }
      ]
    },
    {
      "cell_type": "code",
      "metadata": {
        "colab": {
          "base_uri": "https://localhost:8080/"
        },
        "id": "-PowRn7UOkQt",
        "outputId": "e5aa6376-38a1-4bd0-bb91-4e0eaa84b4c7"
      },
      "source": [
        "# Use of greater than\n",
        "a=6\n",
        "b=23\n",
        "b>a"
      ],
      "execution_count": null,
      "outputs": [
        {
          "output_type": "execute_result",
          "data": {
            "text/plain": [
              "True"
            ]
          },
          "metadata": {
            "tags": []
          },
          "execution_count": 29
        }
      ]
    },
    {
      "cell_type": "code",
      "metadata": {
        "colab": {
          "base_uri": "https://localhost:8080/"
        },
        "id": "LIvB6547Ovvt",
        "outputId": "2cd43e7d-fafa-4314-82c0-3cbf709d27b5"
      },
      "source": [
        "# Use of Less than\n",
        "a=44\n",
        "b=66\n",
        "a<b"
      ],
      "execution_count": null,
      "outputs": [
        {
          "output_type": "execute_result",
          "data": {
            "text/plain": [
              "True"
            ]
          },
          "metadata": {
            "tags": []
          },
          "execution_count": 30
        }
      ]
    },
    {
      "cell_type": "code",
      "metadata": {
        "colab": {
          "base_uri": "https://localhost:8080/"
        },
        "id": "-88syYMgPTJK",
        "outputId": "8ee5e60f-14f3-4f24-a11f-701628f29e93"
      },
      "source": [
        "# Use of greater than equal to\n",
        "a=45\n",
        "b=45\n",
        "a>=b\n",
        "# condtion change but same output\n",
        "a=23\n",
        "b=23\n",
        "a>=b"
      ],
      "execution_count": null,
      "outputs": [
        {
          "output_type": "execute_result",
          "data": {
            "text/plain": [
              "True"
            ]
          },
          "metadata": {
            "tags": []
          },
          "execution_count": 36
        }
      ]
    },
    {
      "cell_type": "code",
      "metadata": {
        "colab": {
          "base_uri": "https://localhost:8080/"
        },
        "id": "zdd7X8vuPfF5",
        "outputId": "77fd6856-bf43-4ec9-81a7-4927983d36af"
      },
      "source": [
        "# Use of less than equal to\n",
        "a=12\n",
        "b=12\n",
        "a<=b\n",
        "# condtion change but same output\n",
        "a=13\n",
        "b=2\n",
        "b<a"
      ],
      "execution_count": null,
      "outputs": [
        {
          "output_type": "execute_result",
          "data": {
            "text/plain": [
              "True"
            ]
          },
          "metadata": {
            "tags": []
          },
          "execution_count": 37
        }
      ]
    },
    {
      "cell_type": "markdown",
      "metadata": {
        "id": "jvpH9o7sQ2J2"
      },
      "source": [
        "## *Logical operator"
      ]
    },
    {
      "cell_type": "markdown",
      "metadata": {
        "id": "mDWc1hHORCmM"
      },
      "source": [
        "1> \"and\"- Returns True if both statements are true\n",
        "\n",
        "2> \"or\"- Returns True if one of the statements is true\n",
        "\n",
        "3> \"not\"\t- Reverse the result"
      ]
    },
    {
      "cell_type": "code",
      "metadata": {
        "colab": {
          "base_uri": "https://localhost:8080/"
        },
        "id": "H6jG97lTQ10b",
        "outputId": "9e7a1292-a901-413f-9ad3-a9fe96fe2be8"
      },
      "source": [
        "# Use of \"and\"\n",
        "a=5\n",
        "b=4\n",
        "c=7\n",
        "d=3\n",
        "a>b and c>d # It returns true when both conditions are true\n",
        "\n"
      ],
      "execution_count": null,
      "outputs": [
        {
          "output_type": "execute_result",
          "data": {
            "text/plain": [
              "True"
            ]
          },
          "metadata": {
            "tags": []
          },
          "execution_count": 38
        }
      ]
    },
    {
      "cell_type": "code",
      "metadata": {
        "colab": {
          "base_uri": "https://localhost:8080/"
        },
        "id": "S_aDD1PASSMb",
        "outputId": "46b0532c-77ad-4736-cdd3-a805d61d4c40"
      },
      "source": [
        "# Use of \"OR\"\n",
        "a=23\n",
        "b=54\n",
        "c=34\n",
        "d=8\n",
        "a<b or c>d # It returns true if one condition is also true"
      ],
      "execution_count": null,
      "outputs": [
        {
          "output_type": "execute_result",
          "data": {
            "text/plain": [
              "True"
            ]
          },
          "metadata": {
            "tags": []
          },
          "execution_count": 40
        }
      ]
    },
    {
      "cell_type": "code",
      "metadata": {
        "colab": {
          "base_uri": "https://localhost:8080/"
        },
        "id": "Hb5ORD1u3ylH",
        "outputId": "aa0b813e-f93b-4d1e-afd9-6ee8f0386c05"
      },
      "source": [
        "# Use of \"Not\"\n",
        "a=2\n",
        "b=2\n",
        "c=a==b\n",
        "not c # It return only opposite statement"
      ],
      "execution_count": null,
      "outputs": [
        {
          "output_type": "execute_result",
          "data": {
            "text/plain": [
              "False"
            ]
          },
          "metadata": {
            "tags": []
          },
          "execution_count": 7
        }
      ]
    },
    {
      "cell_type": "markdown",
      "metadata": {
        "id": "6oJUNIx-46EN"
      },
      "source": [
        "# **Assignment operator**--"
      ]
    },
    {
      "cell_type": "markdown",
      "metadata": {
        "id": "U_K3dQOp6Thu"
      },
      "source": [
        "Assignment operators are used in Python to assign values to variables.\n",
        "\n",
        "a = 5 is a simple assignment operator that assigns the value 5 on the right to the variable a on the left."
      ]
    },
    {
      "cell_type": "code",
      "metadata": {
        "colab": {
          "base_uri": "https://localhost:8080/"
        },
        "id": "YqsZ_Sgn7lpS",
        "outputId": "f876008a-91e0-4526-8553-6b9e2fd0d3db"
      },
      "source": [
        "a=5\n",
        "print(a) # Right side value is assign to left side variable"
      ],
      "execution_count": null,
      "outputs": [
        {
          "output_type": "stream",
          "text": [
            "5\n"
          ],
          "name": "stdout"
        }
      ]
    },
    {
      "cell_type": "code",
      "metadata": {
        "colab": {
          "base_uri": "https://localhost:8080/"
        },
        "id": "bTXNkyck8GLy",
        "outputId": "c5af4166-0928-48b7-c3e2-041b13b2ea18"
      },
      "source": [
        "a=a+5 # It increase right side value and then assign to left side.Working a=a+5 \n",
        "print(a)                                                                # a=5+5 "
      ],
      "execution_count": null,
      "outputs": [
        {
          "output_type": "execute_result",
          "data": {
            "text/plain": [
              "10"
            ]
          },
          "metadata": {
            "tags": []
          },
          "execution_count": 9
        }
      ]
    },
    {
      "cell_type": "code",
      "metadata": {
        "colab": {
          "base_uri": "https://localhost:8080/"
        },
        "id": "LkedgT4s7Oub",
        "outputId": "404fcc46-54c6-453b-aeb2-28f32c71a899"
      },
      "source": [
        "a=5\n",
        "a-=2  # It decrease right side value and then assign to left side. Working a-=5\n",
        "print(a)                                                                # a=5-5"
      ],
      "execution_count": null,
      "outputs": [
        {
          "output_type": "stream",
          "text": [
            "3\n"
          ],
          "name": "stdout"
        }
      ]
    },
    {
      "cell_type": "code",
      "metadata": {
        "id": "yhwWbiHb-9_P",
        "colab": {
          "base_uri": "https://localhost:8080/"
        },
        "outputId": "81911e50-61d7-4f4c-b0e7-991f10e9d855"
      },
      "source": [
        "a=5\n",
        "a=a*6\n",
        "print(a)"
      ],
      "execution_count": null,
      "outputs": [
        {
          "output_type": "stream",
          "text": [
            "30\n"
          ],
          "name": "stdout"
        }
      ]
    },
    {
      "cell_type": "markdown",
      "metadata": {
        "id": "w25OZyv-P1mr"
      },
      "source": [
        "# **Bitwise Operator**"
      ]
    },
    {
      "cell_type": "markdown",
      "metadata": {
        "id": "tOH-qd-3P79R"
      },
      "source": [
        "\n",
        "\n",
        "*   Bitwise AND    \"&\"\n",
        "\n",
        "*   Bitwise OR      \"|\"\n",
        "*   Bitwise NOT   \"~\"\n",
        "\n",
        "\n",
        "*   Bitwise XOR  \"^\"\n",
        "\n"
      ]
    },
    {
      "cell_type": "markdown",
      "metadata": {
        "id": "WuZbtzSYQRQh"
      },
      "source": [
        "# **Bitwise AND operator:** Returns 1 if both the bits are 1 else 0.\n",
        "Example: a = 10 = 1010 (Binary)\n",
        "\n",
        "b = 4 =  0100 (Binary\n",
        "\n",
        "a & b = 1010 & 0100\n",
        "      = 0000\n",
        "      = 0 (Decimal)\n",
        "\n",
        "\n"
      ]
    },
    {
      "cell_type": "code",
      "metadata": {
        "colab": {
          "base_uri": "https://localhost:8080/"
        },
        "id": "KakOk6FnSrpe",
        "outputId": "2ab34b3e-1f20-4698-91f8-2d61a4a7ac85"
      },
      "source": [
        "# Use of Bitwise AND \n",
        "a=5\n",
        "b=6\n",
        "a&b"
      ],
      "execution_count": null,
      "outputs": [
        {
          "output_type": "execute_result",
          "data": {
            "text/plain": [
              "4"
            ]
          },
          "metadata": {
            "tags": []
          },
          "execution_count": 4
        }
      ]
    },
    {
      "cell_type": "markdown",
      "metadata": {
        "id": "5rOq_327RoiQ"
      },
      "source": [
        "# **Bitwise or operator**: Returns 1 if either of the bit is 1 else 0.\n",
        "Example:\n",
        "\n",
        "a = 10 = 1010 (Binary)\n",
        "b = 4 =  0100 (Binary\n",
        "\n",
        "a | b = 1010\n",
        "         |\n",
        "        0100\n",
        "      = 1110\n",
        "      = 14 (Decimal)"
      ]
    },
    {
      "cell_type": "code",
      "metadata": {
        "colab": {
          "base_uri": "https://localhost:8080/"
        },
        "id": "MgvxIVKDS76-",
        "outputId": "c966ff34-db56-4651-fba1-c948e6e917c8"
      },
      "source": [
        "# USe of bitwise OR\n",
        "a=3\n",
        "b=2\n",
        "a|b"
      ],
      "execution_count": null,
      "outputs": [
        {
          "output_type": "execute_result",
          "data": {
            "text/plain": [
              "3"
            ]
          },
          "metadata": {
            "tags": []
          },
          "execution_count": 5
        }
      ]
    },
    {
      "cell_type": "markdown",
      "metadata": {
        "id": "fARIzJZ-SJ7x"
      },
      "source": [
        "# **Bitwise not operator:** Returns one’s compliement of the number.\n",
        "Example:\n",
        "\n",
        "a = 10 = 1010 (Binary)\n",
        "\n",
        "~a = ~1010\n",
        "  \n",
        "   = -(1010 + 1)\n",
        "  \n",
        "   = -(1011)\n",
        "  \n",
        "   = -11 (Decimal)"
      ]
    },
    {
      "cell_type": "code",
      "metadata": {
        "colab": {
          "base_uri": "https://localhost:8080/"
        },
        "id": "eJdxBgCqTICI",
        "outputId": "233c069c-bc2b-49a6-a006-0f0d1ee234eb"
      },
      "source": [
        "# Use of Bitwise Not\n",
        "a=3\n",
        "~a"
      ],
      "execution_count": null,
      "outputs": [
        {
          "output_type": "execute_result",
          "data": {
            "text/plain": [
              "-4"
            ]
          },
          "metadata": {
            "tags": []
          },
          "execution_count": 7
        }
      ]
    },
    {
      "cell_type": "markdown",
      "metadata": {
        "id": "9vzhyms9SQms"
      },
      "source": [
        "Bitwise xor operator: Returns 1 if one of the bit is 1 and other is 0 else returns false.\n",
        "Example:\n",
        "\n",
        "a = 10 = 1010 (Binary)\n",
        "\n",
        "b = 4 =  0100 (Binary\n",
        "\n",
        "a & b = 1010  ^ 0100\n",
        "      = 1110\n",
        "      = 14 (Decimal)"
      ]
    },
    {
      "cell_type": "code",
      "metadata": {
        "colab": {
          "base_uri": "https://localhost:8080/"
        },
        "id": "TttxngbOSliI",
        "outputId": "761182f4-a642-42da-8654-c1ea7cf15f9a"
      },
      "source": [
        "#Use of Bitwise XOR\n",
        "a=6\n",
        "b=7\n",
        "a^b"
      ],
      "execution_count": null,
      "outputs": [
        {
          "output_type": "execute_result",
          "data": {
            "text/plain": [
              "1"
            ]
          },
          "metadata": {
            "tags": []
          },
          "execution_count": 8
        }
      ]
    },
    {
      "cell_type": "markdown",
      "metadata": {
        "id": "V9NwwDXcU4S-"
      },
      "source": [
        "# **Python Membership Operators**\n",
        "\n",
        "Membership operators are used to test if a sequence is presented in an object\n",
        "\n",
        "*   **\"in\"** ->  Returns True if a sequence with the specified value is present in the object\n",
        "\n",
        "*  **\" not in \"** -> Returns True if a sequence with the specified value is not present in the object\n",
        "\n"
      ]
    },
    {
      "cell_type": "code",
      "metadata": {
        "colab": {
          "base_uri": "https://localhost:8080/"
        },
        "id": "X6knymVCVcw9",
        "outputId": "cc0e762d-cfee-45cd-d366-ff960f587d39"
      },
      "source": [
        "# Use of \"in\"\n",
        "x = [\"apple\", \"banana\"]\n",
        "\n",
        "print(\"banana\" in x)\n",
        "\n",
        "# returns True because a sequence with the value \"banana\" is in the list"
      ],
      "execution_count": null,
      "outputs": [
        {
          "output_type": "stream",
          "text": [
            "True\n"
          ],
          "name": "stdout"
        }
      ]
    },
    {
      "cell_type": "code",
      "metadata": {
        "colab": {
          "base_uri": "https://localhost:8080/"
        },
        "id": "tQJQBdsrV48o",
        "outputId": "11537985-bf14-45fb-eb74-6ba778de442d"
      },
      "source": [
        "#  Use of \"not in\"\n",
        "x = [\"apple\", \"banana\"]\n",
        "\n",
        "print(\"pineapple\" not in x)\n",
        "\n",
        "# returns True because a sequence with the value \"pineapple\" is not in the list\n"
      ],
      "execution_count": null,
      "outputs": [
        {
          "output_type": "stream",
          "text": [
            "True\n"
          ],
          "name": "stdout"
        }
      ]
    },
    {
      "cell_type": "markdown",
      "metadata": {
        "id": "RNbuZjllY7bv"
      },
      "source": [
        "# **Python Identity Operators**\n",
        "\n",
        "\n",
        "Identity operators are used to compare the objects, not if they are equal, but if they are actually the same object, with the same memory location\n",
        "\n",
        "\n",
        "*   **\"is\"** -> Returns true if both variables are the same object\n",
        "\n",
        "*   **\"is not\"** -> Returns true if both variables are not the same object\n",
        "\n"
      ]
    },
    {
      "cell_type": "code",
      "metadata": {
        "colab": {
          "base_uri": "https://localhost:8080/"
        },
        "id": "Rx0aOU8yZcxa",
        "outputId": "996639b9-192e-4624-8253-9194b346c40a"
      },
      "source": [
        "# Use of \"is\"\n",
        "x = [\"apple\", \"banana\"]\n",
        "y = [\"apple\", \"banana\"]\n",
        "z = x\n",
        "\n",
        "print(x is z)\n",
        "\n",
        "# returns True because z is the same object as x\n",
        "\n",
        "print(x is y)\n",
        "\n",
        "# returns False because x is not the same object as y, even if they have the same content\n",
        "\n",
        "print(x == y)\n",
        "\n",
        "# to demonstrate the difference betweeen \"is\" and \"==\": this comparison returns True because x is equal to y"
      ],
      "execution_count": 12,
      "outputs": [
        {
          "output_type": "stream",
          "text": [
            "True\n",
            "False\n",
            "True\n"
          ],
          "name": "stdout"
        }
      ]
    },
    {
      "cell_type": "code",
      "metadata": {
        "colab": {
          "base_uri": "https://localhost:8080/"
        },
        "id": "AYtoU5WbaHg4",
        "outputId": "a74fe2bb-22fb-4720-b9bd-181b7f6f6cf0"
      },
      "source": [
        "# Use of \"is not\"\n",
        "x = [\"apple\", \"banana\"]\n",
        "y = [\"apple\", \"banana\"]\n",
        "z = x\n",
        "\n",
        "print(x is not z)\n",
        "\n",
        "# returns False because z is the same object as x\n",
        "\n",
        "print(x is not y)\n",
        "\n",
        "# returns True because x is not the same object as y, even if they have the same content\n",
        "\n",
        "print(x != y)\n",
        "\n",
        "# to demonstrate the difference betweeen \"is not\" and \"!=\": this comparison returns False because x is equal to y\n"
      ],
      "execution_count": 13,
      "outputs": [
        {
          "output_type": "stream",
          "text": [
            "False\n",
            "True\n",
            "False\n"
          ],
          "name": "stdout"
        }
      ]
    }
  ]
}