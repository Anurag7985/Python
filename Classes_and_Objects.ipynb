{
  "nbformat": 4,
  "nbformat_minor": 0,
  "metadata": {
    "colab": {
      "name": "Classes and Objects.ipynb",
      "provenance": [],
      "collapsed_sections": []
    },
    "kernelspec": {
      "name": "python3",
      "display_name": "Python 3"
    },
    "language_info": {
      "name": "python"
    }
  },
  "cells": [
    {
      "cell_type": "markdown",
      "metadata": {
        "id": "C1C_c5STGNEn"
      },
      "source": [
        "# Python OOPs Concepts\n",
        "\n",
        "Python is also an object-oriented language since its beginning. It allows us to develop applications using an Object-Oriented approach. In Python, we can easily create and use classes and objects. An object-oriented paradigm is to design the program using classes and objects. The object is related to real-word entities such as book, house, pencil, etc. The oops concept focuses on writing the reusable code. It is a widespread technique to solve the problem by creating objects.\n",
        "\n",
        "\n",
        "\n",
        "*   Class\n",
        "\n",
        "*   Object\n",
        "*   Methods\n",
        "\n",
        "\n",
        "*   Encapsulation\n",
        "\n",
        "*   Inheritance\n",
        "*   Polymorphism\n",
        "\n",
        "*   Data Abstraction\n",
        "\n",
        "\n",
        "\n",
        "\n",
        "\n"
      ]
    },
    {
      "cell_type": "markdown",
      "metadata": {
        "id": "PIhM4UwR-SXH"
      },
      "source": [
        "# **Class-**\n",
        "\n",
        "It is a logical entity that has some specific attributes and methods. Class act as a blue print of object. Class defines the STATE and BEHAVIOUR of object. Class does not occupy memory.\n",
        "\n",
        "Example- If you have an employee class ,then it should containan attribute and method that is an email Id , name, age, salary etc.\n"
      ]
    },
    {
      "cell_type": "markdown",
      "metadata": {
        "id": "_bl0tkpHABHe"
      },
      "source": [
        "# **Object-**\n",
        "\n",
        "The object is an entity that has STATE and BEHAVIOUR. It may be any real-world object like the mouse, keyboard chair, table, pen,etc. Object is an intance of a class. Object occupies memory(space)\n",
        "STATE------------>variables\n",
        "BEHAVIOUR----------->methods(function associated with a class)"
      ]
    },
    {
      "cell_type": "code",
      "metadata": {
        "colab": {
          "base_uri": "https://localhost:8080/"
        },
        "id": "Ju4Gf1Ry-Gcc",
        "outputId": "a55c429a-598b-463d-a34d-ceb08de86bc9"
      },
      "source": [
        "#Example of create class and object\n",
        "class Furniture:\n",
        "  def chair(self):\n",
        "    print(\"This is a chair\")\n",
        "  def table(self):\n",
        "    print(\"This is table\")\n",
        "\n",
        "obj=Furniture()\n",
        "obj.chair()\n",
        "obj.table()"
      ],
      "execution_count": null,
      "outputs": [
        {
          "output_type": "stream",
          "text": [
            "This is a chair\n",
            "This is table\n"
          ],
          "name": "stdout"
        }
      ]
    },
    {
      "cell_type": "markdown",
      "metadata": {
        "id": "hpFCg9h_FuO0"
      },
      "source": [
        "# The __init__() Function\n",
        "\n",
        "\n",
        "To understand the meaning of classes we have to understand the built-in __init__() function.\n",
        "\n",
        "All classes have a function called __init__(), which is always executed when the class is being initiated.\n",
        "\n",
        "Use the __init__() function to assign values to object properties, or other operations that are necessary to do when the object is being created:"
      ]
    },
    {
      "cell_type": "markdown",
      "metadata": {
        "id": "6spLuugGJaiT"
      },
      "source": [
        ""
      ]
    },
    {
      "cell_type": "code",
      "metadata": {
        "id": "TKMUp32iF_ES"
      },
      "source": [
        ""
      ],
      "execution_count": null,
      "outputs": []
    },
    {
      "cell_type": "markdown",
      "metadata": {
        "id": "vqNEBoBz-QS9"
      },
      "source": [
        ""
      ]
    }
  ]
}