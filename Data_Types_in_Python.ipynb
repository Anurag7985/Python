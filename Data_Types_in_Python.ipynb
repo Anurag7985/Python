{
  "nbformat": 4,
  "nbformat_minor": 0,
  "metadata": {
    "accelerator": "GPU",
    "colab": {
      "name": "Data Types in Python.ipynb",
      "provenance": [],
      "collapsed_sections": []
    },
    "kernelspec": {
      "display_name": "Python 3",
      "name": "python3"
    }
  },
  "cells": [
    {
      "cell_type": "markdown",
      "metadata": {
        "id": "IPXockQlFfwk"
      },
      "source": [
        "# **-PYTHON-**\n",
        "\n",
        "\n"
      ]
    },
    {
      "cell_type": "markdown",
      "metadata": {
        "id": "yIxHt3coGAVk"
      },
      "source": [
        "What is Python ?\n"
      ]
    },
    {
      "cell_type": "markdown",
      "metadata": {
        "id": "0v47Y9VQGHnw"
      },
      "source": [
        "Python is a general-purpose coding language.It can be used for other types of programming and software development besides web development. That includes back end development, software development, data science and writing system scripts among other things.Python is an interpreted, object-oriented, high-level programming language with dynamic semantics. ... Python's simple, easy to learn syntax emphasizes readability and therefore reduces the cost of program maintenance. Python supports modules and packages, which encourages program modularity and code reuse."
      ]
    },
    {
      "cell_type": "markdown",
      "metadata": {
        "id": "4I5dX6SIH1sw"
      },
      "source": [
        "# **Mode of execution code in Python--**\n",
        "\n",
        "*   Interpreted Mode\n",
        "*   Script Mode\n",
        "\n"
      ]
    },
    {
      "cell_type": "markdown",
      "metadata": {
        "id": "Qkl4y0vVHQP7"
      },
      "source": [
        "# **Data types in 'PYTHON'-**\n",
        "1> Numeric Types\n",
        "\n",
        "*   Integer\n",
        "*   Float\n",
        "\n",
        "*   Complex\n",
        "\n",
        "\n",
        "\n",
        "\n",
        "\n",
        "\n",
        "\n",
        "\n",
        "\n",
        "\n",
        "\n",
        "\n",
        "\n",
        "\n",
        "\n",
        "\n"
      ]
    },
    {
      "cell_type": "code",
      "metadata": {
        "colab": {
          "base_uri": "https://localhost:8080/"
        },
        "id": "EAEsCMvTK7SF",
        "outputId": "9d2931d6-cacd-4708-9eb2-c737add72197"
      },
      "source": [
        "# Integrer Example\n",
        "a=6\n",
        "print(a)\n"
      ],
      "execution_count": null,
      "outputs": [
        {
          "output_type": "stream",
          "text": [
            "6\n"
          ],
          "name": "stdout"
        }
      ]
    },
    {
      "cell_type": "code",
      "metadata": {
        "colab": {
          "base_uri": "https://localhost:8080/"
        },
        "id": "lheaWAyDLnJM",
        "outputId": "9f8bf516-1945-44ea-f2ff-e86a7730d2ed"
      },
      "source": [
        "# Float Example\n",
        "a=22.3435757\n",
        "print(a)"
      ],
      "execution_count": null,
      "outputs": [
        {
          "output_type": "stream",
          "text": [
            "22.3435757\n"
          ],
          "name": "stdout"
        }
      ]
    },
    {
      "cell_type": "code",
      "metadata": {
        "colab": {
          "base_uri": "https://localhost:8080/"
        },
        "id": "bOYK7MKsMWTL",
        "outputId": "3fdcd193-9827-4df8-96ce-48906c608f47"
      },
      "source": [
        "# Complex example\n",
        "a=45j\n",
        "print(a)"
      ],
      "execution_count": null,
      "outputs": [
        {
          "output_type": "stream",
          "text": [
            "45j\n"
          ],
          "name": "stdout"
        }
      ]
    },
    {
      "cell_type": "markdown",
      "metadata": {
        "id": "w_WI2soeHdT9"
      },
      "source": [
        "\n",
        "\n",
        "\n",
        "```\n",
        "# This is formatted as code\n",
        "```\n",
        "\n",
        "\n",
        "2> Sequence Types\n",
        "\n",
        "*   List \n",
        "*   Tupple\n",
        "\n",
        "*   Range"
      ]
    },
    {
      "cell_type": "code",
      "metadata": {
        "colab": {
          "base_uri": "https://localhost:8080/"
        },
        "id": "8tAfNE49M5L3",
        "outputId": "8c0cab49-7294-4200-ac1c-96fae1aea24e"
      },
      "source": [
        "# List Example\n",
        "mylist=[1,3,5,6,\"Anurag\",1.9584588,]\n",
        "print(mylist)\n",
        "\n",
        "# To Add values in our list\n",
        "mylist.append(89)\n",
        "print(mylist)\n",
        "\n",
        "# To insert value in our list by place\n",
        "mylist.insert(3,\"Ankit\")\n",
        "print(mylist)\n",
        "\n"
      ],
      "execution_count": null,
      "outputs": [
        {
          "output_type": "stream",
          "text": [
            "[1, 3, 5, 6, 'Anurag', 1.9584588]\n",
            "[1, 3, 5, 6, 'Anurag', 1.9584588, 89]\n",
            "[1, 3, 5, 'Ankit', 6, 'Anurag', 1.9584588, 89]\n"
          ],
          "name": "stdout"
        }
      ]
    },
    {
      "cell_type": "code",
      "metadata": {
        "colab": {
          "base_uri": "https://localhost:8080/"
        },
        "id": "xFYDlRIb0B8N",
        "outputId": "3b9f4b25-749f-4961-c51f-13294e5543ff"
      },
      "source": [
        "# Tuple examples\n",
        "# To print tupple.\n",
        "myTuple=(12,14,16,\"Anurag\",1.732) #Tuple is always prints values from backward\n",
        "print(myTuple)\n",
        "# To add element"
      ],
      "execution_count": null,
      "outputs": [
        {
          "output_type": "stream",
          "text": [
            "(12, 14, 16, 'Anurag', 1.732)\n"
          ],
          "name": "stdout"
        }
      ]
    },
    {
      "cell_type": "markdown",
      "metadata": {
        "id": "aVxJxY0uOcwk"
      },
      "source": [
        "3> Mapping Type\n",
        "\n",
        "*   Dict"
      ]
    },
    {
      "cell_type": "code",
      "metadata": {
        "colab": {
          "base_uri": "https://localhost:8080/"
        },
        "id": "44nElW9m_w2H",
        "outputId": "bc448ac5-3c85-49f8-9ecc-6b1b170399ed"
      },
      "source": [
        "hero={'Diwar':'Amitabh Bachhan','badshah':'shahrukh khan','dilbechara':'SSR'}\n",
        "\n",
        "print(hero['Diwar'])\n",
        "print(hero['badshah'])\n",
        "print(hero['dilbechara'])\n"
      ],
      "execution_count": null,
      "outputs": [
        {
          "output_type": "stream",
          "text": [
            "Amitabh Bachhan\n",
            "shahrukh khan\n",
            "SSR\n"
          ],
          "name": "stdout"
        }
      ]
    },
    {
      "cell_type": "code",
      "metadata": {
        "id": "Hwf1J1PbOio0"
      },
      "source": [
        "# Dict example"
      ],
      "execution_count": null,
      "outputs": []
    },
    {
      "cell_type": "markdown",
      "metadata": {
        "id": "iwwk0lj_Mn8z"
      },
      "source": [
        "4> Set Types\n",
        "\n",
        "*   Set\n",
        "\n",
        "*   frozenset"
      ]
    },
    {
      "cell_type": "code",
      "metadata": {
        "id": "8q97fuMmOqqH"
      },
      "source": [
        "# Set Example"
      ],
      "execution_count": null,
      "outputs": []
    },
    {
      "cell_type": "markdown",
      "metadata": {
        "id": "rULyoXEJOvQ3"
      },
      "source": [
        "5> Boolean Type\n",
        "\n",
        "*   Bool"
      ]
    },
    {
      "cell_type": "code",
      "metadata": {
        "colab": {
          "base_uri": "https://localhost:8080/"
        },
        "id": "963ymmM7O0DJ",
        "outputId": "e137e1e1-574a-4bbe-94c3-4c9ec16c3b28"
      },
      "source": [
        "# Bool Example\n",
        "# Every non zero value is always returns true \n",
        "myBool=bool(1)\n",
        "print(myBool)\n",
        "myBool=bool(0)\n",
        "print(myBool)"
      ],
      "execution_count": null,
      "outputs": [
        {
          "output_type": "stream",
          "text": [
            "True\n",
            "False\n"
          ],
          "name": "stdout"
        }
      ]
    },
    {
      "cell_type": "markdown",
      "metadata": {
        "id": "fnd8jlLM8WlX"
      },
      "source": [
        "**What is ID function ?**\n"
      ]
    },
    {
      "cell_type": "markdown",
      "metadata": {
        "id": "As1GsZOq8vIj"
      },
      "source": [
        "Python id() function returns an identity of an object. This is an integer which is guaranteed to be unique. This function takes an argument an object and returns a unique integer number which represents identity. Two objects with non-overlapping lifetimes may have the same id() value."
      ]
    },
    {
      "cell_type": "code",
      "metadata": {
        "colab": {
          "base_uri": "https://localhost:8080/"
        },
        "id": "MEHJWXa48y1s",
        "outputId": "1ccf0fed-9c40-45d1-8c1b-e4766d01d32a"
      },
      "source": [
        "#example to check id\n",
        "a=5\n",
        "b=5\n",
        "id(a);id(b)"
      ],
      "execution_count": null,
      "outputs": [
        {
          "output_type": "execute_result",
          "data": {
            "text/plain": [
              "94044098722432"
            ]
          },
          "metadata": {
            "tags": []
          },
          "execution_count": 8
        }
      ]
    },
    {
      "cell_type": "markdown",
      "metadata": {
        "id": "7ITyebZ1_k92"
      },
      "source": [
        ""
      ]
    },
    {
      "cell_type": "code",
      "metadata": {
        "id": "yDW6lrmIFRKX"
      },
      "source": [
        ""
      ],
      "execution_count": null,
      "outputs": []
    },
    {
      "cell_type": "code",
      "metadata": {
        "id": "-WYIANmD8xiZ"
      },
      "source": [
        ""
      ],
      "execution_count": null,
      "outputs": []
    },
    {
      "cell_type": "code",
      "metadata": {
        "id": "ZYTCcTV787xi",
        "colab": {
          "base_uri": "https://localhost:8080/",
          "height": 163
        },
        "outputId": "bc26be5d-df90-4f80-cc16-69dbb19ca471"
      },
      "source": [
        "a"
      ],
      "execution_count": null,
      "outputs": [
        {
          "output_type": "error",
          "ename": "NameError",
          "evalue": "ignored",
          "traceback": [
            "\u001b[0;31m---------------------------------------------------------------------------\u001b[0m",
            "\u001b[0;31mNameError\u001b[0m                                 Traceback (most recent call last)",
            "\u001b[0;32m<ipython-input-2-3f786850e387>\u001b[0m in \u001b[0;36m<module>\u001b[0;34m()\u001b[0m\n\u001b[0;32m----> 1\u001b[0;31m \u001b[0ma\u001b[0m\u001b[0;34m\u001b[0m\u001b[0;34m\u001b[0m\u001b[0m\n\u001b[0m",
            "\u001b[0;31mNameError\u001b[0m: name 'a' is not defined"
          ]
        }
      ]
    },
    {
      "cell_type": "markdown",
      "metadata": {
        "id": "f3nDpdYnFVQn"
      },
      "source": [
        "\n",
        "\n",
        "*   List item\n",
        "*   List item\n",
        "\n"
      ]
    },
    {
      "cell_type": "code",
      "metadata": {
        "colab": {
          "base_uri": "https://localhost:8080/"
        },
        "id": "Gt_pHFFxL06J",
        "outputId": "c1a64ea0-864b-43fc-d8f6-676243b4ab6f"
      },
      "source": [
        "\n"
      ],
      "execution_count": null,
      "outputs": [
        {
          "output_type": "stream",
          "text": [
            "True\n",
            "False\n"
          ],
          "name": "stdout"
        }
      ]
    }
  ]
}